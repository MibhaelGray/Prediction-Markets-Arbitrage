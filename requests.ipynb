{
 "cells": [
  {
   "cell_type": "markdown",
   "id": "ee5d79a6",
   "metadata": {},
   "source": [
    "Polymarket API Demo:"
   ]
  },
  {
   "cell_type": "code",
   "execution_count": 19,
   "id": "af614a7b",
   "metadata": {},
   "outputs": [
    {
     "name": "stdout",
     "output_type": "stream",
     "text": [
      "\n",
      "Fetched markets at 2025-04-21 21:32:13:\n",
      "- Israel withdraws from Syria before April?\n",
      "- US recession in 2025?\n",
      "- Will BTS announce a new world tour in 2025?\n",
      "- Tom Holland and Zendaya engaged in 2025?\n",
      "- NYSE marketwide circuit breaker in 2025?\n"
     ]
    },
    {
     "ename": "KeyboardInterrupt",
     "evalue": "",
     "output_type": "error",
     "traceback": [
      "\u001b[1;31m---------------------------------------------------------------------------\u001b[0m",
      "\u001b[1;31mKeyboardInterrupt\u001b[0m                         Traceback (most recent call last)",
      "Cell \u001b[1;32mIn[19], line 33\u001b[0m\n\u001b[0;32m     31\u001b[0m \u001b[38;5;28;01mwhile\u001b[39;00m \u001b[38;5;28;01mTrue\u001b[39;00m:\n\u001b[0;32m     32\u001b[0m     schedule\u001b[38;5;241m.\u001b[39mrun_pending()\n\u001b[1;32m---> 33\u001b[0m     \u001b[43mtime\u001b[49m\u001b[38;5;241;43m.\u001b[39;49m\u001b[43msleep\u001b[49m\u001b[43m(\u001b[49m\u001b[38;5;241;43m1\u001b[39;49m\u001b[43m)\u001b[49m\n",
      "\u001b[1;31mKeyboardInterrupt\u001b[0m: "
     ]
    }
   ],
   "source": [
    "\n",
    "import requests\n",
    "import schedule\n",
    "import time\n",
    "\n",
    "# Define the Gamma API endpoint\n",
    "base_url = \"https://gamma-api.polymarket.com/markets\"\n",
    "params = {\n",
    "    \"active\": True,\n",
    "    \"limit\": 10,\n",
    "    \"tag\": \"politics\",\n",
    "    \"start_date_min\": \"2025-01-01T00:00:00Z\"\n",
    "}\n",
    "\n",
    "def fetch_markets():\n",
    "    # Make a GET request to fetch markets\n",
    "    response = requests.get(base_url, params=params)\n",
    "    \n",
    "    # Check if the request was successful\n",
    "    if response.status_code == 200:\n",
    "        markets = response.json()\n",
    "        print(f\"\\nFetched markets at {time.strftime('%Y-%m-%d %H:%M:%S')}:\")\n",
    "        for market in markets[:5]:  # Print first 5 markets\n",
    "            print(f\"- {market['question']}\")\n",
    "    else:\n",
    "        print(f\"Failed to fetch markets. Status code: {response.status_code}\")\n",
    "\n",
    "# Schedule the fetch every 10 seconds\n",
    "schedule.every(10).seconds.do(fetch_markets)\n",
    "\n",
    "# Run the scheduler\n",
    "while True:\n",
    "    schedule.run_pending()\n",
    "    time.sleep(1)"
   ]
  },
  {
   "cell_type": "code",
   "execution_count": null,
   "id": "028c9cae",
   "metadata": {},
   "outputs": [],
   "source": []
  }
 ],
 "metadata": {
  "kernelspec": {
   "display_name": "Python 3",
   "language": "python",
   "name": "python3"
  },
  "language_info": {
   "codemirror_mode": {
    "name": "ipython",
    "version": 3
   },
   "file_extension": ".py",
   "mimetype": "text/x-python",
   "name": "python",
   "nbconvert_exporter": "python",
   "pygments_lexer": "ipython3",
   "version": "3.9.5"
  }
 },
 "nbformat": 4,
 "nbformat_minor": 5
}
